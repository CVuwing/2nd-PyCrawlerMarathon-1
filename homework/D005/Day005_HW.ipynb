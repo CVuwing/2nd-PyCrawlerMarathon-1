{
 "cells": [
  {
   "cell_type": "markdown",
   "metadata": {},
   "source": [
    "# API 資料串接 - 以 Dcard API 實作範例\n",
    "\n",
    "* 了解 Dcard API 使用方式與回傳內容\n",
    "* 撰寫程式存取 API 且解析 JSON 格式資料\n"
   ]
  },
  {
   "cell_type": "markdown",
   "metadata": {},
   "source": [
    "## 作業目標\n",
    "\n",
    "* 請利用 API: https://www.dcard.tw/_api/forums/pet/posts?popular=true 回答下列問題：\n",
    "\n",
    "1. 這個 API 一次會回傳幾筆資料？每一筆資料包含哪些欄位？\n",
    "2. 取出每一筆資料的「標題」、「貼文時間」、「留言人數」、「按讚人數」\n",
    "3. 計算熱門/非熱門文章的「平均留言人數」與「平均按讚人數」"
   ]
  },
  {
   "cell_type": "code",
   "execution_count": 3,
   "metadata": {},
   "outputs": [
    {
     "name": "stdout",
     "output_type": "stream",
     "text": [
      "一次回傳  30  筆資料\n",
      "每筆資料的有  32 個欄位，欄位有：\n",
      "id\n",
      "title\n",
      "excerpt\n",
      "anonymousSchool\n",
      "anonymousDepartment\n",
      "pinned\n",
      "forumId\n",
      "replyId\n",
      "createdAt\n",
      "updatedAt\n",
      "commentCount\n",
      "likeCount\n",
      "withNickname\n",
      "tags\n",
      "topics\n",
      "meta\n",
      "forumName\n",
      "forumAlias\n",
      "gender\n",
      "school\n",
      "replyTitle\n",
      "mediaMeta\n",
      "reactions\n",
      "hidden\n",
      "customStyle\n",
      "isSuspiciousAccount\n",
      "layout\n",
      "withImages\n",
      "withVideos\n",
      "media\n",
      "reportReasonText\n",
      "postAvatar\n"
     ]
    }
   ],
   "source": [
    "import requests\n",
    "r = requests.get('https://www.dcard.tw/_api/forums/pet/posts?popular=true')\n",
    "response = r.text\n",
    "\n",
    "import json\n",
    "data = json.loads(response)\n",
    "   \n",
    "# 1. 這個 API 一次會回傳幾筆資料？每一筆資料包含哪些欄位？\n",
    "\n",
    "print('一次回傳 ', len(data), ' 筆資料')\n",
    "print('每筆資料的有 ', len(data[0]), '個欄位，欄位有：')\n",
    "for d in data[0]:\n",
    "    print(d)"
   ]
  },
  {
   "cell_type": "code",
   "execution_count": 8,
   "metadata": {},
   "outputs": [
    {
     "name": "stdout",
     "output_type": "stream",
     "text": [
      "標題： ['看起來很衰的臘腸狗', '#圖 在公園遛天竺鼠ヽ(✿ﾟ▽ﾟ)ノ', '拍屁屁奴隸的心聲', '習慣躺枕頭睡覺', '曬照🐿️', '文長 我擁有全世界最棒的貓咪', '朕想怎麼睡 就怎麼睡(˶‾᷄ ⁻̫ ‾᷅˵)', '來曬一下家裡的黑狗🐶', '賤人！', '三腳黑妞；救援孕狗不是件容易的事', '#協尋紅貴賓#懸賞金$5000#請大家幫忙頂上去！', '所以說到底是什麼生物呢', '當你家的貓在看風景時⋯', '求這篇限時的貓咪', '來曬一下可爾必思', '露屁屁外星人', '看那顫抖的小眼眶', '家有小三', '柯基犬曬萌照', '🐔抓癢', '懇請大家協尋狗小孩', '同學我要妮的貓貓！！！', '戲精貓-瞳孔放大片篇', '[抒發文]小狗狗去天堂了', '從小養到大的主子真的信任我嗎', '學妹揪我一起看貓', '尋狗 新莊夜市走丟的', '#圖 酒醉大鼠', '虎視眈眈', '彈力柴']\n",
      "貼文時間： ['2020-02-27T03:24:54.078Z', '2020-02-27T08:00:49.162Z', '2020-02-27T13:38:01.565Z', '2020-02-27T05:50:41.877Z', '2020-02-28T03:46:37.460Z', '2020-02-27T23:47:16.852Z', '2020-02-27T19:53:48.404Z', '2020-02-27T21:10:15.772Z', '2020-02-27T17:57:19.700Z', '2020-02-28T04:16:05.721Z', '2020-02-27T17:05:28.180Z', '2020-02-28T06:28:07.294Z', '2020-02-27T06:48:59.523Z', '2020-02-28T06:23:06.364Z', '2020-02-27T08:19:49.020Z', '2020-02-27T07:09:01.168Z', '2020-02-27T22:52:19.976Z', '2020-02-27T10:14:48.735Z', '2020-02-28T04:37:56.515Z', '2020-02-27T05:50:48.792Z', '2020-02-28T08:09:39.155Z', '2020-02-28T07:26:54.480Z', '2020-02-28T05:13:43.720Z', '2020-02-27T14:08:40.800Z', '2020-02-27T08:13:49.089Z', '2020-02-27T05:18:10.961Z', '2020-02-28T02:57:24.261Z', '2020-02-28T08:49:27.019Z', '2020-02-28T08:06:52.057Z', '2020-02-27T14:15:42.605Z']\n",
      "留言人數： [18, 11, 7, 8, 3, 5, 0, 5, 3, 1, 3, 1, 0, 0, 1, 0, 3, 0, 0, 3, 0, 1, 0, 3, 6, 4, 0, 0, 4, 0]\n",
      "按讚人數： [197, 158, 63, 35, 34, 34, 27, 24, 23, 22, 22, 21, 20, 19, 17, 15, 13, 13, 12, 10, 8, 8, 7, 7, 7, 7, 6, 5, 5, 5]\n"
     ]
    }
   ],
   "source": [
    "# 2. 取出每一筆資料的「標題」、「貼文時間」、「留言人數」、「按讚人數」\n",
    "title=[]\n",
    "ti=[]\n",
    "com=[]\n",
    "like=[]\n",
    "\n",
    "for d in data:\n",
    "    title.append(d['title'])\n",
    "    ti.append(d['createdAt'])\n",
    "    com.append(d['commentCount'])\n",
    "    like.append(d['likeCount'])\n",
    "print('標題：', title)\n",
    "print('貼文時間：', ti)\n",
    "print('留言人數：', com)\n",
    "print('按讚人數：', like)"
   ]
  },
  {
   "cell_type": "code",
   "execution_count": 14,
   "metadata": {},
   "outputs": [
    {
     "name": "stdout",
     "output_type": "stream",
     "text": [
      "熱門文章的平均留言人數：3 人\n",
      "熱門文章的平均按讚人數：28 人\n"
     ]
    }
   ],
   "source": [
    "# 3. 計算熱門/非熱門文章的「平均留言人數」與「平均按讚人數」\n",
    "import numpy as np\n",
    "print('熱門文章的平均留言人數：%d 人' % np.mean(com))\n",
    "print('熱門文章的平均按讚人數：%d 人' % np.mean(like))"
   ]
  },
  {
   "cell_type": "code",
   "execution_count": null,
   "metadata": {},
   "outputs": [],
   "source": []
  },
  {
   "cell_type": "code",
   "execution_count": null,
   "metadata": {},
   "outputs": [],
   "source": []
  }
 ],
 "metadata": {
  "kernelspec": {
   "display_name": "Python 3",
   "language": "python",
   "name": "python3"
  },
  "language_info": {
   "codemirror_mode": {
    "name": "ipython",
    "version": 3
   },
   "file_extension": ".py",
   "mimetype": "text/x-python",
   "name": "python",
   "nbconvert_exporter": "python",
   "pygments_lexer": "ipython3",
   "version": "3.6.5"
  }
 },
 "nbformat": 4,
 "nbformat_minor": 2
}
