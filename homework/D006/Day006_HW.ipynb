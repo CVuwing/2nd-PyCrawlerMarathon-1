{
 "cells": [
  {
   "cell_type": "markdown",
   "metadata": {},
   "source": [
    "# API 資料串接 - 以 知乎 API 實作範例\n",
    "\n",
    "\n",
    "\n",
    "* 了解知乎 API 使用方式與回傳內容\n",
    "* 撰寫程式存取 API 且添加標頭\n",
    "\n",
    "\n"
   ]
  },
  {
   "cell_type": "markdown",
   "metadata": {},
   "source": [
    "## 作業目標\n",
    "\n",
    "* 根據範例提供的 API ，完成以下問題：\n",
    "\n",
    "    1. 取出知乎問題發問時間\n",
    "    2. 取出第一筆與最後一筆回答的時間\n"
   ]
  },
  {
   "cell_type": "markdown",
   "metadata": {},
   "source": [
    "### 1. 取出知乎問題發問時間"
   ]
  },
  {
   "cell_type": "code",
   "execution_count": 6,
   "metadata": {},
   "outputs": [
    {
     "name": "stdout",
     "output_type": "stream",
     "text": [
      "你们都是怎么学 Python 的？  :  1557824412\n",
      "你们都是怎么学 Python 的？  :  1554085028\n",
      "你们都是怎么学 Python 的？  :  1493693113\n",
      "你们都是怎么学 Python 的？  :  1572318426\n",
      "你们都是怎么学 Python 的？  :  1551238885\n"
     ]
    }
   ],
   "source": [
    "# 1. 取出知乎問題發問時間\n",
    "\n",
    "import requests\n",
    "headers = {'user-agent': 'my-app/0.0.1'}\n",
    "r = requests.get('https://www.zhihu.com/api/v4/questions/55493026/answers',headers=headers)\n",
    "response = r.text\n",
    "\n",
    "import json\n",
    "data = json.loads(response)\n",
    "\n",
    "for d in data['data']:\n",
    "    #print(d)\n",
    "    print(d['question']['title'], ' : ', d['created_time'])"
   ]
  },
  {
   "cell_type": "markdown",
   "metadata": {},
   "source": [
    "### 2. 取出第一筆與最後一筆回答的時間"
   ]
  },
  {
   "cell_type": "code",
   "execution_count": 11,
   "metadata": {},
   "outputs": [
    {
     "name": "stdout",
     "output_type": "stream",
     "text": [
      "第一筆： 1557824412\n",
      "最後筆： 1551238885\n",
      "5\n"
     ]
    }
   ],
   "source": [
    "# 2. 取出第一筆與最後一筆回答的時間\n",
    "\n",
    "print('第一筆：', data['data'][0]['created_time'])\n",
    "print('最後筆：', data['data'][len(data['data'])-1]['created_time'])\n",
    "#print(len(data['data']))"
   ]
  },
  {
   "cell_type": "code",
   "execution_count": null,
   "metadata": {},
   "outputs": [],
   "source": []
  },
  {
   "cell_type": "code",
   "execution_count": null,
   "metadata": {},
   "outputs": [],
   "source": []
  },
  {
   "cell_type": "code",
   "execution_count": null,
   "metadata": {},
   "outputs": [],
   "source": []
  }
 ],
 "metadata": {
  "kernelspec": {
   "display_name": "Python 3",
   "language": "python",
   "name": "python3"
  },
  "language_info": {
   "codemirror_mode": {
    "name": "ipython",
    "version": 3
   },
   "file_extension": ".py",
   "mimetype": "text/x-python",
   "name": "python",
   "nbconvert_exporter": "python",
   "pygments_lexer": "ipython3",
   "version": "3.6.5"
  }
 },
 "nbformat": 4,
 "nbformat_minor": 2
}
