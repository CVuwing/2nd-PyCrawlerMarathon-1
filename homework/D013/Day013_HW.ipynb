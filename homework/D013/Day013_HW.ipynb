{
 "cells": [
  {
   "cell_type": "markdown",
   "metadata": {},
   "source": [
    "# PTT 網路爬蟲實作練習\n",
    "\n",
    "\n",
    "* 能夠利用 Request + BeatifulSour 撰寫爬蟲，並存放到合適的資料結構\n"
   ]
  },
  {
   "cell_type": "markdown",
   "metadata": {},
   "source": [
    "## 作業目標\n",
    "\n",
    "根據範例 ，完成以下問題：\n",
    "\n",
    "* ① 印出最新文章的「作者」「標題」「時間」\n",
    "* ② 印出第一頁所有文章的「作者」「標題」「時間」\n"
   ]
  },
  {
   "cell_type": "markdown",
   "metadata": {},
   "source": [
    "### ① 印出最新文章的「作者」「標題」「時間」"
   ]
  },
  {
   "cell_type": "code",
   "execution_count": 2,
   "metadata": {},
   "outputs": [
    {
     "name": "stdout",
     "output_type": "stream",
     "text": [
      "[外絮] 現役球員目前沒有0輪過的\n",
      "作者: dro001 (風雲)\n",
      "時間: Wed Mar 11 15:25:53 2020\n"
     ]
    }
   ],
   "source": [
    "import requests\n",
    "from bs4 import BeautifulSoup\n",
    "\n",
    "url = 'https://www.ptt.cc/bbs/NBA/index.html'\n",
    "r = requests.get(url)\n",
    "\n",
    "soup = BeautifulSoup(r.text, \"html5lib\")\n",
    "\n",
    "d = soup.find_all(class_=\"title\")\n",
    "    \n",
    "print(d[1].text.replace('\\t', '').replace('\\n', ''))\n",
    "r = BeautifulSoup(requests.get('https://www.ptt.cc'+d[1].find('a')['href']).text, \"html5lib\")\n",
    "#print(d.find('a')['href'])\n",
    "#print('https://www.ptt.cc'+d.find('a')['href'])\n",
    "print('作者: ' + r.find(class_='article-meta-value').text)\n",
    "print(r.find_all(class_='article-metaline')[-1].text.replace('時間', '時間: '))\n"
   ]
  },
  {
   "cell_type": "markdown",
   "metadata": {},
   "source": [
    "### ② 印出第一頁所有文章的「作者」「標題」「時間」"
   ]
  },
  {
   "cell_type": "code",
   "execution_count": 12,
   "metadata": {},
   "outputs": [
    {
     "name": "stdout",
     "output_type": "stream",
     "text": [
      "[BOX ] Hornets 109:98 Heat 數據\n",
      "Re: [情報] 勇士確定無緣季後賽\n",
      "作者: Angel0724 (ND5)\n",
      "<div class=\"article-metaline\"><span class=\"article-meta-tag\">時間</span><span class=\"article-meta-value\">Thu Mar 12 09:52:15 2020</span></div>\n",
      "時間: Thu Mar 12 09:52:15 2020\n",
      "Re: [Live] 爵士 @ 雷霆\n",
      "作者: seabox (超級喜歡鄧紫棋)\n",
      "<div class=\"article-metaline\"><span class=\"article-meta-tag\">時間</span><span class=\"article-meta-value\">Thu Mar 12 09:57:01 2020</span></div>\n",
      "時間: Thu Mar 12 09:57:01 2020\n",
      "[公告]大怒灌 \n",
      "作者: namie810303 (NBA)\n",
      "<div class=\"article-metaline\"><span class=\"article-meta-tag\">時間</span><span class=\"article-meta-value\">Thu Mar 12 09:57:19 2020</span></div>\n",
      "時間: Thu Mar 12 09:57:19 2020\n",
      "[花邊] Cuban得知停賽後反應\n",
      "作者: willy911006 (小溫)\n",
      "<div class=\"article-metaline\"><span class=\"article-meta-tag\">時間</span><span class=\"article-meta-value\">Thu Mar 12 09:59:59 2020</span></div>\n",
      "時間: Thu Mar 12 09:59:59 2020\n",
      "[Live] 鵜鶘 @ 國王\n",
      "作者: Rambo (香帥)\n",
      "<div class=\"article-metaline\"><span class=\"article-meta-tag\">時間</span><span class=\"article-meta-value\">Thu Mar 12 10:00:03 2020</span></div>\n",
      "時間: Thu Mar 12 10:00:03 2020\n",
      "Re: [情報] 球季無限期停賽\n",
      "作者: monmo (Gentleman monmo)\n",
      "<div class=\"article-metaline\"><span class=\"article-meta-tag\">時間</span><span class=\"article-meta-value\">Thu Mar 12 10:00:55 2020</span></div>\n",
      "時間: Thu Mar 12 10:00:55 2020\n",
      "[花邊] 爵士門神戈貝爾受訪完「摸一輪麥克風」\n",
      "作者: Teentop (Teentop)\n",
      "<div class=\"article-metaline\"><span class=\"article-meta-tag\">時間</span><span class=\"article-meta-value\">Thu Mar 12 10:05:16 2020</span></div>\n",
      "時間: Thu Mar 12 10:05:16 2020\n",
      "Re: [討論] LBJ跟MJ都是GOAT不行嗎？ 對，不行！\n",
      "作者: changyiyao (板橋甄子丹)\n",
      "<div class=\"article-metaline\"><span class=\"article-meta-tag\">時間</span><span class=\"article-meta-value\">Thu Mar 12 10:07:17 2020</span></div>\n",
      "時間: Thu Mar 12 10:07:17 2020\n",
      "[花邊] Gobert賽前結束採訪後，刻意摸話筒\n",
      "[BOX ] Knicks 136:131 Hawks 數據\n",
      "Mudiay確診\n",
      "作者: leolikerose (亮亮)\n",
      "<div class=\"article-metaline\"><span class=\"article-meta-tag\">時間</span><span class=\"article-meta-value\">Thu Mar 12 10:17:35 2020</span></div>\n",
      "時間: Thu Mar 12 10:17:35 2020\n",
      "[公告] 板規v6.8\n",
      "[公告] 版主上任相關事項 \n",
      "作者: qazwsx879345 (Rajon Rondo)\n",
      "<div class=\"article-metaline\"><span class=\"article-meta-tag\">時間</span><span class=\"article-meta-value\">Fri Oct 25 10:44:03 2019</span></div>\n",
      "時間: Fri Oct 25 10:44:03 2019\n",
      "[情報] SEASON Schedule 賽程 March 19–20\n",
      "作者: Acetoxy (阿斯)\n",
      "<div class=\"article-metaline\"><span class=\"article-meta-tag\">時間</span><span class=\"article-meta-value\">Mon Mar  2 01:19:40 2020</span></div>\n",
      "時間: Mon Mar  2 01:19:40 2020\n",
      "[公告] 第一次被退文，可在三天後刪除退文\n",
      "作者: Vedan (味丹)\n",
      "<div class=\"article-metaline\"><span class=\"article-meta-tag\">時間</span><span class=\"article-meta-value\">Mon Mar  9 11:44:26 2020</span></div>\n",
      "時間: Mon Mar  9 11:44:26 2020\n",
      "[公告]大怒灌 \n",
      "作者: namie810303 (NBA)\n",
      "<div class=\"article-metaline\"><span class=\"article-meta-tag\">時間</span><span class=\"article-meta-value\">Thu Mar 12 09:57:19 2020</span></div>\n",
      "時間: Thu Mar 12 09:57:19 2020\n"
     ]
    }
   ],
   "source": [
    "import requests\n",
    "from bs4 import BeautifulSoup\n",
    "\n",
    "url = 'https://www.ptt.cc/bbs/NBA/index.html'\n",
    "r = requests.get(url)\n",
    "\n",
    "soup = BeautifulSoup(r.text, \"html5lib\")\n",
    "\n",
    "for d in soup.find_all(class_=\"title\"):\n",
    "    #print(d.text)\n",
    "    print(d.text.replace('\\t', '').replace('\\n', ''))\n",
    "    try:\n",
    "        r = BeautifulSoup(requests.get('https://www.ptt.cc'+d.find('a')['href']).text, \"html5lib\")\n",
    "        #print(d.find('a')['href'])\n",
    "        #print('https://www.ptt.cc'+d.find('a')['href'])\n",
    "        print('作者: ' + r.find(class_='article-meta-value').text)\n",
    "        #print(r.find_all(class_='article-metaline')[-1])\n",
    "        print(r.find_all(class_='article-metaline')[-1].text.replace('時間', '時間: '))\n",
    "    except:\n",
    "        continue\n"
   ]
  },
  {
   "cell_type": "markdown",
   "metadata": {},
   "source": [
    "### ③ 試著爬爬看其他版的文章"
   ]
  },
  {
   "cell_type": "code",
   "execution_count": 4,
   "metadata": {},
   "outputs": [
    {
     "name": "stdout",
     "output_type": "stream",
     "text": [
      "[閒聊] 有手遊跟戰女一樣倒了還可以一直轉生的嗎\n",
      "作者: songgood (ilovegoodgame)\n",
      "時間: Wed Mar 11 17:02:17 2020\n",
      "[倒了] 交響性百萬亞瑟王5月12日結束營運\n",
      "作者: SuperSg (○(#‵ ︿′ㄨ)○森77)\n",
      "時間: Wed Mar 11 17:02:38 2020\n",
      "Fw: [ＬＬ] μ's 新單曲　C/W曲試聽影片\n",
      "作者: YuiiAnitima (唯)\n",
      "時間: Wed Mar 11 17:02:58 2020\n",
      "[情報] 鬼滅之刃 全集中展 舉辦中止\n",
      "作者: wl760713 (willy)\n",
      "時間: Wed Mar 11 17:05:18 2020\n",
      "[閒聊] 妖精尾巴 百年任務 51\n",
      "作者: chan324 (北極熊)\n",
      "時間: Wed Mar 11 17:08:23 2020\n",
      "[公告] C_Chat板板規v.16.3.0+板務建議+好文補M \n",
      "作者: jschenlemn (sinra)\n",
      "時間: Sat Sep 14 01:23:34 2019\n",
      "[公告] 看板活動& 臨時板規與公告彙整& 閒聊區 \n",
      "作者: jschenlemn (sinra)\n",
      "時間: Mon Dec 16 10:22:11 2019\n",
      "[20冬] 冬番各作品首播時間\n",
      "作者: SaberTheBest (Saber最高!)\n",
      "時間: Thu Dec 12 22:57:46 2019\n",
      "[20冬] 2020年冬番 台灣觀賞管道整理（01/06）\n",
      "作者: durantjosh (肚爛特‧喬許)\n",
      "時間: Mon Jan  6 20:52:59 2020\n"
     ]
    }
   ],
   "source": [
    "# 爬 C_Chat\n",
    "import requests\n",
    "from bs4 import BeautifulSoup\n",
    "\n",
    "url = 'https://www.ptt.cc/bbs/C_Chat/index.html'\n",
    "r = requests.get(url)\n",
    "\n",
    "soup = BeautifulSoup(r.text, \"html5lib\")\n",
    "\n",
    "for d in soup.find_all(class_=\"title\"):\n",
    "    #print(d.text)\n",
    "    print(d.text.replace('\\t', '').replace('\\n', ''))\n",
    "    try:\n",
    "        r = BeautifulSoup(requests.get('https://www.ptt.cc'+d.find('a')['href']).text, \"html5lib\")\n",
    "        #print(d.find('a')['href'])\n",
    "        #print('https://www.ptt.cc'+d.find('a')['href'])\n",
    "        print('作者: ' + r.find(class_='article-meta-value').text)\n",
    "        print(r.find_all(class_='article-metaline')[-1].text.replace('時間', '時間: '))\n",
    "    except:\n",
    "        continue\n"
   ]
  },
  {
   "cell_type": "code",
   "execution_count": 10,
   "metadata": {},
   "outputs": [
    {
     "name": "stdout",
     "output_type": "stream",
     "text": [
      "re.compile('[, ]+')\n"
     ]
    },
    {
     "data": {
      "text/plain": [
       "['a', 'b', 'c', 'd']"
      ]
     },
     "execution_count": 10,
     "metadata": {},
     "output_type": "execute_result"
    }
   ],
   "source": [
    "import re\n",
    "some_text = 'a,b,,,,c d'\n",
    "reObj = re.compile('[, ]+')\n",
    "print(reObj)\n",
    "reObj.split(some_text)"
   ]
  },
  {
   "cell_type": "code",
   "execution_count": null,
   "metadata": {},
   "outputs": [],
   "source": []
  }
 ],
 "metadata": {
  "kernelspec": {
   "display_name": "Python 3",
   "language": "python",
   "name": "python3"
  },
  "language_info": {
   "codemirror_mode": {
    "name": "ipython",
    "version": 3
   },
   "file_extension": ".py",
   "mimetype": "text/x-python",
   "name": "python",
   "nbconvert_exporter": "python",
   "pygments_lexer": "ipython3",
   "version": "3.7.4"
  }
 },
 "nbformat": 4,
 "nbformat_minor": 2
}
